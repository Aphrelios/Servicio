{
 "cells": [
  {
   "cell_type": "code",
   "execution_count": 1,
   "id": "47496209-2746-41f4-9a19-923301f1399b",
   "metadata": {},
   "outputs": [
    {
     "name": "stdout",
     "output_type": "stream",
     "text": [
      "Hola mundo\n"
     ]
    }
   ],
   "source": [
    "print(\"Hola mundo\")"
   ]
  },
  {
   "cell_type": "markdown",
   "id": "db2a13bd-91f8-4da2-9623-c6e94ca2eb59",
   "metadata": {},
   "source": [
    "Esto es un ejercicio de pruebas"
   ]
  },
  {
   "cell_type": "markdown",
   "id": "9373671d-68d4-46f2-8387-bfe0534a3da4",
   "metadata": {},
   "source": [
    "\n",
    "### Esto es un ejercicio de pruebas"
   ]
  },
  {
   "cell_type": "code",
   "execution_count": null,
   "id": "d39d71bf-e5ec-4cb8-9d8d-8ada33e21cad",
   "metadata": {},
   "outputs": [],
   "source": []
  }
 ],
 "metadata": {
  "kernelspec": {
   "display_name": "Python [conda env:base] *",
   "language": "python",
   "name": "conda-base-py"
  },
  "language_info": {
   "codemirror_mode": {
    "name": "ipython",
    "version": 3
   },
   "file_extension": ".py",
   "mimetype": "text/x-python",
   "name": "python",
   "nbconvert_exporter": "python",
   "pygments_lexer": "ipython3",
   "version": "3.12.7"
  }
 },
 "nbformat": 4,
 "nbformat_minor": 5
}
